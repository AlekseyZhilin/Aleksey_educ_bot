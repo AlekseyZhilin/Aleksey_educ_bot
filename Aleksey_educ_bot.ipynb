{
  "nbformat": 4,
  "nbformat_minor": 0,
  "metadata": {
    "colab": {
      "name": "Копия блокнота \"Aleksey_educ_bot\"",
      "provenance": [],
      "collapsed_sections": []
    },
    "kernelspec": {
      "name": "python3",
      "display_name": "Python 3"
    },
    "language_info": {
      "name": "python"
    },
    "gpuClass": "standard"
  },
  "cells": [
    {
      "cell_type": "markdown",
      "source": [
        "### Установка библиотек"
      ],
      "metadata": {
        "id": "vIxOqEtHtbwx"
      }
    },
    {
      "cell_type": "code",
      "source": [
        "!pip install python-telegram-bot"
      ],
      "metadata": {
        "id": "HYTXoArstgzz",
        "colab": {
          "base_uri": "https://localhost:8080/"
        },
        "outputId": "5ba86a4a-1c34-4ccf-93a4-512ea0a5c68a"
      },
      "execution_count": null,
      "outputs": [
        {
          "output_type": "stream",
          "name": "stdout",
          "text": [
            "Looking in indexes: https://pypi.org/simple, https://us-python.pkg.dev/colab-wheels/public/simple/\n",
            "Requirement already satisfied: python-telegram-bot in /usr/local/lib/python3.7/dist-packages (13.13)\n",
            "Requirement already satisfied: cachetools==4.2.2 in /usr/local/lib/python3.7/dist-packages (from python-telegram-bot) (4.2.2)\n",
            "Requirement already satisfied: APScheduler==3.6.3 in /usr/local/lib/python3.7/dist-packages (from python-telegram-bot) (3.6.3)\n",
            "Requirement already satisfied: certifi in /usr/local/lib/python3.7/dist-packages (from python-telegram-bot) (2022.6.15)\n",
            "Requirement already satisfied: tornado>=6.1 in /usr/local/lib/python3.7/dist-packages (from python-telegram-bot) (6.2)\n",
            "Requirement already satisfied: pytz>=2018.6 in /usr/local/lib/python3.7/dist-packages (from python-telegram-bot) (2022.1)\n",
            "Requirement already satisfied: setuptools>=0.7 in /usr/local/lib/python3.7/dist-packages (from APScheduler==3.6.3->python-telegram-bot) (57.4.0)\n",
            "Requirement already satisfied: tzlocal>=1.2 in /usr/local/lib/python3.7/dist-packages (from APScheduler==3.6.3->python-telegram-bot) (1.5.1)\n",
            "Requirement already satisfied: six>=1.4.0 in /usr/local/lib/python3.7/dist-packages (from APScheduler==3.6.3->python-telegram-bot) (1.15.0)\n"
          ]
        }
      ]
    },
    {
      "cell_type": "code",
      "source": [
        "!pip install python-telegram-bot --upgrade"
      ],
      "metadata": {
        "id": "4_8UWgu80Vu1",
        "colab": {
          "base_uri": "https://localhost:8080/"
        },
        "outputId": "0988a630-ef77-4eba-f92a-8d0a1f325ba3"
      },
      "execution_count": null,
      "outputs": [
        {
          "output_type": "stream",
          "name": "stdout",
          "text": [
            "Looking in indexes: https://pypi.org/simple, https://us-python.pkg.dev/colab-wheels/public/simple/\n",
            "Requirement already satisfied: python-telegram-bot in /usr/local/lib/python3.7/dist-packages (13.13)\n",
            "Requirement already satisfied: tornado>=6.1 in /usr/local/lib/python3.7/dist-packages (from python-telegram-bot) (6.2)\n",
            "Requirement already satisfied: certifi in /usr/local/lib/python3.7/dist-packages (from python-telegram-bot) (2022.6.15)\n",
            "Requirement already satisfied: pytz>=2018.6 in /usr/local/lib/python3.7/dist-packages (from python-telegram-bot) (2022.1)\n",
            "Requirement already satisfied: cachetools==4.2.2 in /usr/local/lib/python3.7/dist-packages (from python-telegram-bot) (4.2.2)\n",
            "Requirement already satisfied: APScheduler==3.6.3 in /usr/local/lib/python3.7/dist-packages (from python-telegram-bot) (3.6.3)\n",
            "Requirement already satisfied: setuptools>=0.7 in /usr/local/lib/python3.7/dist-packages (from APScheduler==3.6.3->python-telegram-bot) (57.4.0)\n",
            "Requirement already satisfied: six>=1.4.0 in /usr/local/lib/python3.7/dist-packages (from APScheduler==3.6.3->python-telegram-bot) (1.15.0)\n",
            "Requirement already satisfied: tzlocal>=1.2 in /usr/local/lib/python3.7/dist-packages (from APScheduler==3.6.3->python-telegram-bot) (1.5.1)\n"
          ]
        }
      ]
    },
    {
      "cell_type": "code",
      "source": [
        "# перезапускаем среду выполнения"
      ],
      "metadata": {
        "id": "akN77Paofm4G"
      },
      "execution_count": null,
      "outputs": []
    },
    {
      "cell_type": "code",
      "source": [
        "!pip install pymorphy2\n",
        "!pip install stop_words"
      ],
      "metadata": {
        "id": "VZh8caL7nasd",
        "colab": {
          "base_uri": "https://localhost:8080/"
        },
        "outputId": "39562bf9-a085-4eb9-e658-c19d013e58b5"
      },
      "execution_count": null,
      "outputs": [
        {
          "output_type": "stream",
          "name": "stdout",
          "text": [
            "Looking in indexes: https://pypi.org/simple, https://us-python.pkg.dev/colab-wheels/public/simple/\n",
            "Requirement already satisfied: pymorphy2 in /usr/local/lib/python3.7/dist-packages (0.9.1)\n",
            "Requirement already satisfied: pymorphy2-dicts-ru<3.0,>=2.4 in /usr/local/lib/python3.7/dist-packages (from pymorphy2) (2.4.417127.4579844)\n",
            "Requirement already satisfied: docopt>=0.6 in /usr/local/lib/python3.7/dist-packages (from pymorphy2) (0.6.2)\n",
            "Requirement already satisfied: dawg-python>=0.7.1 in /usr/local/lib/python3.7/dist-packages (from pymorphy2) (0.7.2)\n",
            "Looking in indexes: https://pypi.org/simple, https://us-python.pkg.dev/colab-wheels/public/simple/\n",
            "Requirement already satisfied: stop_words in /usr/local/lib/python3.7/dist-packages (2018.7.23)\n"
          ]
        }
      ]
    },
    {
      "cell_type": "code",
      "source": [
        "from pymorphy2 import MorphAnalyzer\n",
        "from stop_words import get_stop_words\n",
        "import string\n",
        "import datetime"
      ],
      "metadata": {
        "id": "TflffLzTnJBh"
      },
      "execution_count": null,
      "outputs": []
    },
    {
      "cell_type": "markdown",
      "source": [
        "### Блок обработки текста"
      ],
      "metadata": {
        "id": "1h1JRi0woCdF"
      }
    },
    {
      "cell_type": "code",
      "source": [
        "morpher = MorphAnalyzer()\n",
        "stop_words = set(get_stop_words(\"ru\"))\n",
        "exclude = set(string.punctuation)"
      ],
      "metadata": {
        "id": "5X6ECkgGol6m"
      },
      "execution_count": null,
      "outputs": []
    },
    {
      "cell_type": "code",
      "source": [
        "# удаляем слово \"время\" из множества stop_words\n",
        "stop_words.discard('время')"
      ],
      "metadata": {
        "id": "FE07kHsStfHb"
      },
      "execution_count": null,
      "outputs": []
    },
    {
      "cell_type": "code",
      "source": [
        "def preprocess_txt(input_txt):\n",
        "    txt = \"\".join(i for i in input_txt.strip() if i not in exclude).split()\n",
        "    txt = [morpher.parse(i.lower())[0].normal_form for i in txt]\n",
        "    txt = [i for i in txt if i not in stop_words and i != \"\"]\n",
        "    return txt"
      ],
      "metadata": {
        "id": "S_MQT9_7lcoR"
      },
      "execution_count": null,
      "outputs": []
    },
    {
      "cell_type": "code",
      "source": [
        "def is_intent_time(input_txt):\n",
        "  res = False\n",
        "  if len(input_txt) < 6:\n",
        "    for word in input_txt:\n",
        "      if word == 'время' or word == 'час':\n",
        "        res = True\n",
        "\n",
        "  return res"
      ],
      "metadata": {
        "id": "_jPdV5zNvNBC"
      },
      "execution_count": null,
      "outputs": []
    },
    {
      "cell_type": "code",
      "source": [
        "def is_intent_5k(input_txt):\n",
        "  res = False\n",
        "  if len(input_txt) < 6:\n",
        "    for word in input_txt:\n",
        "      if word == 'пятёрочка' or word == 'пятерочка':\n",
        "        res = True\n",
        "\n",
        "  return res  "
      ],
      "metadata": {
        "id": "9N_bWvr9J_lW"
      },
      "execution_count": null,
      "outputs": []
    },
    {
      "cell_type": "code",
      "source": [
        "var_otv = {'yes': 1, 'no' : 2, 'dialog' : 0}"
      ],
      "metadata": {
        "id": "8eDBC1jwtQpx"
      },
      "execution_count": null,
      "outputs": []
    },
    {
      "cell_type": "code",
      "source": [
        "def is_yes_no(input_txt):\n",
        "  var = var_otv.get('dialog')\n",
        "  if input_txt == 'да' or input_txt == 'Да':\n",
        "    var = var_otv.get('yes')\n",
        "  elif input_txt == 'нет' or  input_txt =='Нет':\n",
        "    var =  var_otv.get('no')\n",
        "  elif (len(input_txt.split()) > 1) and (input_txt.split()[0]=='да' or input_txt.split()[0] == 'Да'):\n",
        "    var = var_otv.get('yes')\n",
        "\n",
        "  return var"
      ],
      "metadata": {
        "id": "t3IVWabB2IKn"
      },
      "execution_count": null,
      "outputs": []
    },
    {
      "cell_type": "markdown",
      "source": [
        "### Блок парсинга Пятёрочки"
      ],
      "metadata": {
        "id": "SeHByb4-_COd"
      }
    },
    {
      "cell_type": "code",
      "source": [
        "from pathlib import Path\n",
        "import time\n",
        "import json\n",
        "import requests"
      ],
      "metadata": {
        "id": "FKops0lm_HO-"
      },
      "execution_count": null,
      "outputs": []
    },
    {
      "cell_type": "code",
      "source": [
        "class Parse5ka:\n",
        "    headers = {\"User-Agent\": \"ucheba\"}\n",
        "\n",
        "    def __init__(self, start_url: str):\n",
        "        self.start_url = start_url\n",
        "\n",
        "    def _get_response(self, url, *args, **kwargs) -> requests.Response:\n",
        "        while True:\n",
        "            response = requests.get(url, *args, **kwargs, headers=self.headers)\n",
        "            if response.status_code in (200, 301, 304):\n",
        "                return response\n",
        "            time.sleep(1)\n",
        "\n",
        "    def run(self):\n",
        "        prod = dict()\n",
        "        for product in self._parse(self.start_url):\n",
        "            prod[product['name']] = product['current_prices'].get('price_promo__min')\n",
        "        return prod\n",
        "        \n",
        "    def _parse(self, url):\n",
        "        while url:\n",
        "            response = self._get_response(url)\n",
        "            data: dict = response.json()\n",
        "            url = data.get(\"next\")\n",
        "            for product in data.get(\"results\", []):\n",
        "                yield product"
      ],
      "metadata": {
        "id": "ahAXQ1Bw_LK3"
      },
      "execution_count": null,
      "outputs": []
    },
    {
      "cell_type": "code",
      "source": [
        "parser = Parse5ka(\"https://5ka.ru/api/v2/special_offers/\")\n",
        "product = parser.run()"
      ],
      "metadata": {
        "id": "YpUMdt2sCu9n"
      },
      "execution_count": null,
      "outputs": []
    },
    {
      "cell_type": "code",
      "source": [
        "def price5k(prod = 'колбаса'):\n",
        "  return [f'{key} - {val}р.' for key, val in product.items() if key.lower().find(prod.lower())!=-1]"
      ],
      "metadata": {
        "id": "pIMGJAJvSsfJ"
      },
      "execution_count": null,
      "outputs": []
    },
    {
      "cell_type": "markdown",
      "source": [
        "### Блок соединения с телеграм ботом"
      ],
      "metadata": {
        "id": "4unAPB6ugM5s"
      }
    },
    {
      "cell_type": "code",
      "source": [
        "import os\n",
        "import logging\n",
        "from telegram import Update\n",
        "from telegram.ext import Updater, CommandHandler, MessageHandler, Filters, CallbackContext"
      ],
      "metadata": {
        "id": "H0MX1gy1twfs"
      },
      "execution_count": null,
      "outputs": []
    },
    {
      "cell_type": "code",
      "source": [
        "# Создадим соединение с ботом\n",
        "updater = Updater(\"5393420496:AAFk_-R2VQH94tQUsaDqjYZC6twdwMltzPA\", use_context=True)  # Токен API к Telegram\n",
        "dispatcher = updater.dispatcher"
      ],
      "metadata": {
        "id": "h1Jy_n4QfjhB"
      },
      "execution_count": null,
      "outputs": []
    },
    {
      "cell_type": "code",
      "source": [
        "def startCommand(update: Update, context: CallbackContext):\n",
        "    update.message.reply_text('Добрый день! Я учебный бот @Aleksey_educ_bot')\n",
        "    update.message.reply_text('Могу просто поболтать')\n",
        "    update.message.reply_text('Сказать рецепт блюда')\n",
        "    update.message.reply_text('Показать скидки на продукты в Пятёрочке')\n",
        "    update.message.reply_text('Подсказать наше время')"
      ],
      "metadata": {
        "id": "J98GR5yGgG5Y"
      },
      "execution_count": null,
      "outputs": []
    },
    {
      "cell_type": "code",
      "source": [
        "intent = []\n",
        "last_txt = ''"
      ],
      "metadata": {
        "id": "QnPqx0nI3ZYt"
      },
      "execution_count": null,
      "outputs": []
    },
    {
      "cell_type": "code",
      "source": [
        "def textMessage(update: Update, context: CallbackContext):\n",
        "  otv_var = is_yes_no(update.message.text)\n",
        "  global last_txt, price5k\n",
        "  \n",
        "  if otv_var == var_otv.get('yes'):\n",
        "    if intent[0] == 'time':\n",
        "      intent.clear()\n",
        "      today = datetime.datetime.now()\n",
        "      update.message.reply_text(f'у нас {today.strftime(\"%H.%M\")}') \n",
        "    elif intent[0] == '5k':\n",
        "      intent.clear()\n",
        "\n",
        "      if len(update.message.text.split()) > 1:\n",
        "        prod = price5k(\" \".join(update.message.text.split()[1:]))\n",
        "        if len(prod) > 0:\n",
        "          for mes in prod:\n",
        "            update.message.reply_text(mes)\n",
        "        else:\n",
        "            update.message.reply_text('Извините, на указанный продукт нет скидок')\n",
        "      else:\n",
        "        # колбаса\n",
        "        for mes in price5k():\n",
        "          update.message.reply_text(mes)\n",
        "  \n",
        "  elif otv_var == var_otv.get('no'):\n",
        "    intent.clear()\n",
        "    input_txt = last_txt\n",
        "    last_txt = ''\n",
        "  elif otv_var == var_otv.get('dialog'):\n",
        "    input_txt = preprocess_txt(update.message.text)\n",
        "\n",
        "  if otv_var == var_otv.get('dialog') and len(intent) == 1:  \n",
        "    update.message.reply_text('выберете вариант ответа \"да\" или \"нет\"')\n",
        "  elif otv_var == var_otv.get('dialog') and is_intent_time(input_txt):\n",
        "    update.message.reply_text('вы хотите узнать который час?')\n",
        "    intent.append('time')\n",
        "    last_txt = input_txt\n",
        "  elif otv_var == var_otv.get('dialog') and is_intent_5k(input_txt):\n",
        "    update.message.reply_text('вы хотите узнать скидки в Пятёрочке? (после Да, можно указать продукт)')\n",
        "    intent.append('5k')\n",
        "    last_txt = input_txt\n",
        "  elif otv_var == var_otv.get('dialog') or otv_var == var_otv.get('no'): \n",
        "    update.message.reply_text('test')"
      ],
      "metadata": {
        "id": "M6Ckp9n_gy4y"
      },
      "execution_count": null,
      "outputs": []
    },
    {
      "cell_type": "code",
      "source": [
        "# on different commands - answer in Telegram\n",
        "dispatcher.add_handler(CommandHandler(\"start\", startCommand))\n",
        "dispatcher.add_handler(MessageHandler(Filters.text & ~Filters.command, textMessage))\n",
        "\n",
        "# Start the Bot\n",
        "updater.start_polling()\n",
        "updater.idle()"
      ],
      "metadata": {
        "id": "IdS9f9CJggo_"
      },
      "execution_count": null,
      "outputs": []
    }
  ]
}